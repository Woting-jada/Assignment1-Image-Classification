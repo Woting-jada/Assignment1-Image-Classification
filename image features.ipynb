{
 "cells": [
  {
   "cell_type": "code",
   "execution_count": 7,
   "metadata": {},
   "outputs": [],
   "source": [
    "from sklearn.svm import SVC\n",
    " \n",
    "import argparse\n",
    " \n",
    "import mahotas\n",
    " \n",
    "import glob\n",
    " \n",
    "import cv2\n",
    " \n",
    "import numpy as np\n",
    "import pandas as pd\n",
    "\n",
    "from tqdm import tqdm"
   ]
  },
  {
   "cell_type": "code",
   "execution_count": 28,
   "metadata": {},
   "outputs": [],
   "source": [
    "def describe(image, mask=None):\n",
    " \n",
    "    #取RGB三個channels的平均及變異\n",
    "\n",
    "    (means, stds) = cv2.meanStdDev(image)\n",
    "\n",
    "    #合併平均及變異兩種數值再攤為一維\n",
    "\n",
    "    colorRGB = np.concatenate([means, stds]).flatten()\n",
    "\n",
    "    #取Haralink textures\n",
    "\n",
    "    image = cv2.cvtColor(image, cv2.COLOR_BGR2GRAY)\n",
    "\n",
    "    hara = mahotas.features.haralick(image).mean(axis=0)\n",
    "\n",
    "    #將兩種特徵值合併\n",
    "\n",
    "    features = np.append(colorRGB, hara)\n",
    "\n",
    "    return features\n",
    "\n",
    "def track_hara(text):\n",
    "    haralick_name = [\"id\",\n",
    "                     \"B_std\",\"G_std\",\"R_std\",\n",
    "                     \"B_mean\",\"G_mean\",\"R_mean\",\n",
    "              \"Angular Second Moment\",\n",
    "              \"Contrast\",\n",
    "              \"Correlation\",\n",
    "              \"Variance\",\n",
    "              \"Inverse Difference Moment\",\n",
    "              \"Sum Average\",\n",
    "              \"Sum Variance\",\n",
    "              \"Sum Entropy\",\n",
    "              \"Entropy \",\n",
    "              \"Difference Variance\",\n",
    "              \"Difference Entropy\",\n",
    "              \"f12\",\n",
    "              \"f13\",\n",
    "              \"label\"]\n",
    "\n",
    "    table = pd.DataFrame(columns=haralick_name)\n",
    "    print(\"total img amount:\",len(text))\n",
    "    for i in tqdm(range(len(text))):\n",
    "        l = text[i][0].rfind(\"/\")+1\n",
    "        r = text[i][0].rfind(\".\")\n",
    "        name = text[i][0][l:r]\n",
    "        lable = int(text[i][1])\n",
    "        image = cv2.imread(\"./\"+text[i][0])\n",
    "        feature  = describe(image).tolist()\n",
    "        temp_list = [[name]+feature+[lable]]\n",
    "        temp_table = pd.DataFrame(temp_list,columns=haralick_name)\n",
    "        table = table.append(temp_table, ignore_index=True)\n",
    "\n",
    "    return(table)\n",
    "\n",
    "def opendata(path):\n",
    "    \n",
    "    f = open(path,\"r\")\n",
    "    text = []\n",
    "    for line in f:\n",
    "        temp = line.split(' ')\n",
    "        temp[1] = temp[1][:-1]\n",
    "        text.append(temp)\n",
    "    f.close\n",
    "\n",
    "    final_feature_table = track_hara(text)\n",
    "    return (final_feature_table)"
   ]
  },
  {
   "cell_type": "code",
   "execution_count": 29,
   "metadata": {},
   "outputs": [
    {
     "name": "stderr",
     "output_type": "stream",
     "text": [
      "  0%|                                                                                | 6/63325 [00:00<19:53, 53.06it/s]"
     ]
    },
    {
     "name": "stdout",
     "output_type": "stream",
     "text": [
      "train data\n",
      "total img amount: 63325\n"
     ]
    },
    {
     "name": "stderr",
     "output_type": "stream",
     "text": [
      "100%|████████████████████████████████████████████████████████████████████████████| 63325/63325 [28:51<00:00, 36.57it/s]\n",
      "  1%|▋                                                                                 | 4/450 [00:00<00:11, 39.80it/s]"
     ]
    },
    {
     "name": "stdout",
     "output_type": "stream",
     "text": [
      "val data\n",
      "total img amount: 450\n"
     ]
    },
    {
     "name": "stderr",
     "output_type": "stream",
     "text": [
      "100%|████████████████████████████████████████████████████████████████████████████████| 450/450 [00:10<00:00, 41.18it/s]\n",
      "  1%|▉                                                                                 | 5/450 [00:00<00:10, 41.89it/s]"
     ]
    },
    {
     "name": "stdout",
     "output_type": "stream",
     "text": [
      "test data\n",
      "total img amount: 450\n"
     ]
    },
    {
     "name": "stderr",
     "output_type": "stream",
     "text": [
      "100%|████████████████████████████████████████████████████████████████████████████████| 450/450 [00:10<00:00, 41.64it/s]\n"
     ]
    }
   ],
   "source": [
    "# 取得train資料的 haralick 特徵\n",
    "print(\"train data\")\n",
    "trainpath = 'train.txt'\n",
    "final_feature_table = opendata(trainpath)\n",
    "final_feature_table.to_csv(\"train_haralick.csv\", index=False)\n",
    "\n",
    "# 取得 val資料的 haralick 特徵\n",
    "print(\"val data\")\n",
    "valpath = 'val.txt'\n",
    "final_feature_table = opendata(valpath)\n",
    "final_feature_table.to_csv(\"val_haralick.csv\", index=False)\n",
    "\n",
    "# 取得test資料的 haralick 特徵\n",
    "print(\"test data\")\n",
    "testpath = 'test.txt'\n",
    "final_feature_table = opendata(testpath)\n",
    "final_feature_table.to_csv(\"test_haralick.csv\", index=False)"
   ]
  },
  {
   "cell_type": "code",
   "execution_count": null,
   "metadata": {},
   "outputs": [],
   "source": []
  }
 ],
 "metadata": {
  "kernelspec": {
   "display_name": "Python 3",
   "language": "python",
   "name": "python3"
  },
  "language_info": {
   "codemirror_mode": {
    "name": "ipython",
    "version": 3
   },
   "file_extension": ".py",
   "mimetype": "text/x-python",
   "name": "python",
   "nbconvert_exporter": "python",
   "pygments_lexer": "ipython3",
   "version": "3.7.7"
  }
 },
 "nbformat": 4,
 "nbformat_minor": 5
}
